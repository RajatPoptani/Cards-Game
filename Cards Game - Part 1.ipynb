{
 "cells": [
  {
   "cell_type": "markdown",
   "metadata": {},
   "source": [
    "# Exercise 1"
   ]
  },
  {
   "cell_type": "markdown",
   "metadata": {},
   "source": [
    "## Step 1.1"
   ]
  },
  {
   "cell_type": "code",
   "execution_count": 848,
   "metadata": {},
   "outputs": [
    {
     "name": "stdout",
     "output_type": "stream",
     "text": [
      "Standard deck of playing cards will consist of :[1, 2, 3, 4, 5, 6, 7, 8, 9, 10, 11, 12, 13, 1, 2, 3, 4, 5, 6, 7, 8, 9, 10, 11, 12, 13, 1, 2, 3, 4, 5, 6, 7, 8, 9, 10, 11, 12, 13, 1, 2, 3, 4, 5, 6, 7, 8, 9, 10, 11, 12, 13]\n",
      "where 1=Ace, 11=Jack, 12=Queen, 13=King that is total of 52 cards\n"
     ]
    }
   ],
   "source": [
    "cards = [1,2,3,4,5,6,7,8,9,10,11,12,13]*4\n",
    "print(\"Standard deck of playing cards will consist of :\"+ str(cards))\n",
    "print(\"where 1=Ace, 11=Jack, 12=Queen, 13=King that is total of \" + str(len(cards)) + \" cards\")"
   ]
  },
  {
   "cell_type": "markdown",
   "metadata": {},
   "source": [
    "## Step 1.2"
   ]
  },
  {
   "cell_type": "code",
   "execution_count": 844,
   "metadata": {},
   "outputs": [
    {
     "name": "stdout",
     "output_type": "stream",
     "text": [
      "Total value associated with full deck which represents maximum total for a game is364\n"
     ]
    }
   ],
   "source": [
    "total = sum(cards)\n",
    "print(\"Total value associated with full deck which represents maximum total for a game is\" + str(total))"
   ]
  },
  {
   "cell_type": "markdown",
   "metadata": {},
   "source": [
    "# Exercise 2"
   ]
  },
  {
   "cell_type": "markdown",
   "metadata": {},
   "source": [
    "## Step 2.1"
   ]
  },
  {
   "cell_type": "code",
   "execution_count": 534,
   "metadata": {},
   "outputs": [],
   "source": [
    "#definig deal function here where cards list is created with 52 cards. \n",
    "from random import shuffle    #importing shuffle function to use it for shuffling the cards.\n",
    "def deal():\n",
    "    cards = [1,2,3,4,5,6,7,8,9,10,11,12,13]*4\n",
    "    player_1=()\n",
    "    player_2=()\n",
    "    shuffle(cards)            #this function changes the original cards list.  \n",
    "    cards1=cards\n",
    "    n=len(cards)\n",
    "    index = int(n/2)\n",
    "    \n",
    "    player_1=cards[:index]    #gives first 26 cards to player 1\n",
    "    player_2=cards[index:n]   #gives last 26 cards to player 2 \n",
    "    return(tuple(player_1),tuple(player_2))"
   ]
  },
  {
   "cell_type": "markdown",
   "metadata": {},
   "source": [
    "## Step 2.2"
   ]
  },
  {
   "cell_type": "code",
   "execution_count": 849,
   "metadata": {},
   "outputs": [
    {
     "name": "stdout",
     "output_type": "stream",
     "text": [
      "Player 1's hand: \n",
      "(3, 13, 3, 9, 9, 9, 12, 4, 6, 12, 8, 11, 11, 8, 8, 2, 5, 4, 5, 1, 6, 4, 13, 5, 10, 6)\n",
      "Player 1's number of cards: \n",
      "26\n",
      "Player 1's total of cards: \n",
      "187\n",
      "Player 2's hand: \n",
      "(3, 9, 5, 7, 2, 13, 7, 8, 7, 10, 1, 12, 2, 4, 11, 10, 12, 10, 11, 1, 3, 13, 6, 1, 2, 7)\n",
      "Player 2's number of cards: \n",
      "26\n",
      "Player 2's total of cards: \n",
      "177\n"
     ]
    }
   ],
   "source": [
    "a,b=deal() #using deal function to give one hand to Player1 that is a and one hand to Player2 that is b\n",
    "\n",
    "print(\"Player 1's hand: \")\n",
    "print(a)\n",
    "print(\"Player 1's number of cards: \")\n",
    "print(len(a))\n",
    "print(\"Player 1's total of cards: \")\n",
    "print(sum(a))\n",
    "\n",
    "print(\"Player 2's hand: \")\n",
    "print(b)\n",
    "print(\"Player 2's number of cards: \")\n",
    "print(len(b))\n",
    "print(\"Player 2's total of cards: \")\n",
    "print(sum(b))"
   ]
  },
  {
   "cell_type": "markdown",
   "metadata": {},
   "source": [
    "# Excercise 3 "
   ]
  },
  {
   "cell_type": "markdown",
   "metadata": {},
   "source": [
    "## Step 3.1"
   ]
  },
  {
   "cell_type": "markdown",
   "metadata": {},
   "source": [
    "#### Steps of what should occur in game of addition war and process behind play() function:"
   ]
  },
  {
   "cell_type": "markdown",
   "metadata": {},
   "source": [
    "1. Shuffle Deck - which is done by deal() function.\n",
    "\n",
    "2. Deal half of deck to each player - deal() function.\n",
    "\n",
    "3. Empty discard piles for P1 and P2 are created which will store the cards of the round for final calculation if a Player wins that round.\n",
    "\n",
    "4. i is used to keep check of while loop index which infact is also keeping track of element selection from a and b which are 2 hands of players.\n",
    "\n",
    "5. using a[i] and a[i+1], two consecutive cards are used to play addition war.\n",
    "\n",
    "6. After entering the loop, if there is tie, cards are sent over to tiebreaker function which takes in a,b,i and inc where inc increment value of i for outer while loop. example, if elements 1,2 are tie for a and elements 3,4 are used to break the tie, then elements 5,6 should be used in next round after tiebreaker, so inc gives appropriate value to increment while after tiebreaker.\n",
    "\n",
    "7. In tiebreaker, if next cards are giving a tie result again, then a recursive call to tiebreaker function is made otherwise winner is sent back to the function call.\n",
    "\n",
    "8. In tiebreaker, Exhausted takes care of situation where the last 2 cards can go in tiebreaker and there are no cards to decide the result.\n",
    "\n",
    "9. Appropriate cards are added to discard piles of Player1 and Player2 with help of return values from tiebreaker function.\n",
    "\n",
    "10. Using inc value from tiebrekaer, increment is made in such way that no cards are repeated in next round after tiebrekaer.\n",
    "\n",
    "11. If the sum of cards is not equal then there is no calling for tiebreaker and normal if else conditions are used to compare the cards addition. At the end, winner gets all cards of that round in his/her discard pile, including opponent's.\n",
    "\n",
    "12. i value for while loop is incremented at end of every loop.\n",
    "\n",
    "13. After each round is played, comparison of discard piles is done and values are returned according to situations which are if Player1 wins or Player2 wins or there is a tie.\n",
    "\n",
    "14. The return values are used to print which is winner with total of discard pile and which is loser with total of discard pile.\n",
    "\n",
    "15. Game terminates after maximum of 13 rounds if there is no tie. If there is one tie, there are 12 rounds, and so on.\n",
    "\n",
    "16. The player with the highest total card points (in their discard pile) wins the game."
   ]
  },
  {
   "cell_type": "markdown",
   "metadata": {},
   "source": [
    "## Step 3.2"
   ]
  },
  {
   "cell_type": "code",
   "execution_count": 880,
   "metadata": {},
   "outputs": [],
   "source": [
    "def play():    \n",
    "    a,b=deal()\n",
    "    \n",
    "    discard_pile_p1 = [] #player1 discard pile\n",
    "    discard_pile_p2 = [] #player2 discard pile\n",
    "    \n",
    "    i=0\n",
    "\n",
    "    while i<=25:\n",
    "\n",
    "        if(i%2==0):  #using this to fiter 2 cards together and not repeat the cards in next round\n",
    "\n",
    "            if((a[i]+a[i+1])==(b[i]+b[i+1])):  #condition where a tie can occur\n",
    "                \n",
    "                tie_pile = []; inc = 0; player_won = \"\"; p1_exhausted = []; p2_exhausted = [];\n",
    "                tie_pile,inc,player_won = tiebreaker(a,b,i,inc) #call to tiebreaker function\n",
    "                \n",
    "                if player_won == \"Player 1\":\n",
    "                    discard_pile_p1.extend(tie_pile)\n",
    "                    print(\"Tie first, but Player1 won\")\n",
    "                    print(\"\")\n",
    "\n",
    "                elif player_won == \"Player 2\":\n",
    "                    discard_pile_p2.extend(tie_pile)\n",
    "                    print(\"Tie first, but Player2 won\")\n",
    "                    print(\"\")\n",
    "                    \n",
    "                elif player_won == \"Exhausted\": \n",
    "                    print(\"Tie, and cards exhausted\")\n",
    "                    print(\"\")\n",
    "                    \n",
    "                    p1_exhausted = [a[i],a[i+1]]\n",
    "                    discard_pile_p1.extend(p1_exhausted)\n",
    "                    \n",
    "                    p2_exhausted = [b[i],b[i+1]]\n",
    "                    discard_pile_p2.extend(p2_exhausted)\n",
    "                    \n",
    "                i += inc - 1   #increment value of i loop according to number of ties occured so as to skip cards which were used to break the tie.\n",
    "                \n",
    "                \n",
    "            elif((a[i]+a[i+1])>(b[i]+b[i+1])):   #condition where player1 wins\n",
    "                print(\"Player1 wins\")\n",
    "                print(\"\")\n",
    "                discard_pile_p1.extend([a[i],a[i+1],b[i],b[i+1]])\n",
    "                \n",
    "\n",
    "            elif((a[i]+a[i+1])<(b[i]+b[i+1])):  #condition where player2 wins\n",
    "                print(\"Player2 wins\")\n",
    "                print(\"\")\n",
    "                discard_pile_p2.extend([a[i],a[i+1],b[i],b[i+1]])\n",
    "                    \n",
    "                \n",
    "        i += 1    #incrementing the while loop   \n",
    "    \n",
    "   \n",
    "    \n",
    "    if(sum(discard_pile_p1)>sum(discard_pile_p2)): #returning values if player1's discard_pile is gretaer, that is Player1 wins\n",
    "        return sum(discard_pile_p1),sum(discard_pile_p2),\"Player 1\",\"Player 2\"\n",
    "    \n",
    "    elif(sum(discard_pile_p1)<sum(discard_pile_p2)): ##returning values if player2's discard_pile is gretaer, that is Player2 wins\n",
    "        return sum(discard_pile_p2),sum(discard_pile_p1),\"Player 2\",\"Player 1\"\n",
    "    \n",
    "    else: #returning values if there is a tie in total value of final piles.\n",
    "        return sum(discard_pile_p1),sum(discard_pile_p2),\"Tie\",\"Tie\"\n",
    "    \n",
    "    print(\"\")\n",
    "    \n",
    "        \n",
    "    \n",
    "def tiebreaker(a,b,i,inc): #tiebreaker function to give result for tie\n",
    "    \n",
    "   \n",
    "    if(i==24): #if the pile is going to exhaust and nothing is left to break the tie.\n",
    "        \n",
    "        tiebreaker_pile_last_1 =[a[i],a[i+1]]\n",
    "        tiebreaker_pile_last_2 =[b[i],b[i+1]]\n",
    "        return(tiebreaker_pile_last_1,inc+4,\"Exhausted\")\n",
    "    \n",
    "    else:      #breaking tie using next cards in player's hand\n",
    "        \n",
    "        inc = inc+4\n",
    "        tiebreaker_pile = []\n",
    "        tiebreaker_pile.extend([a[i],a[i+1],b[i],b[i+1]])\n",
    "\n",
    "        for j in range(i+2,25):\n",
    "\n",
    "            if((a[j]+a[j+1])==(b[j]+b[j+1])):\n",
    "                 return tiebreaker(a,b,j,inc) #if there is tie again after a tie\n",
    "\n",
    "            if((a[j]+a[j+1])>(b[j]+b[j+1])): #if Player1 wins in a tiebreaker\n",
    "\n",
    "                tiebreaker_pile.extend([a[j],a[j+1],b[j],b[j+1]])\n",
    "                return(tiebreaker_pile,inc,\"Player 1\")\n",
    "\n",
    "            elif((a[j]+a[j+1])<(b[j]+b[j+1])): #if player2 wins a tiebreaker.    \n",
    "        \n",
    "                tiebreaker_pile.extend([a[j],a[j+1],b[j],b[j+1]])\n",
    "                return(tiebreaker_pile,inc,\"Player 2\")    "
   ]
  },
  {
   "cell_type": "markdown",
   "metadata": {},
   "source": [
    "## Step 3.3"
   ]
  },
  {
   "cell_type": "code",
   "execution_count": 893,
   "metadata": {},
   "outputs": [
    {
     "name": "stdout",
     "output_type": "stream",
     "text": [
      "Player1 wins\n",
      "\n",
      "Tie first, but Player2 won\n",
      "\n",
      "Player1 wins\n",
      "\n",
      "Player1 wins\n",
      "\n",
      "Player1 wins\n",
      "\n",
      "Player1 wins\n",
      "\n",
      "Player2 wins\n",
      "\n",
      "Player1 wins\n",
      "\n",
      "Player2 wins\n",
      "\n",
      "Player2 wins\n",
      "\n",
      "Player2 wins\n",
      "\n",
      "Player2 wins\n",
      "\n",
      "Winner is Player 2 with total of 186\n",
      "Loser is Player 1 with total of 178\n",
      "Game terminates after maximum of 13 rounds if there is no tie. If there is one tie, there are 12 rounds, and so on.\n"
     ]
    }
   ],
   "source": [
    "tot_winner,tot_loser,winner,loser = play()\n",
    "if winner==loser:\n",
    "    print(\"There is a tie!\")\n",
    "\n",
    "else:   \n",
    "    print(\"Winner is \" + winner + \" with total of \" + str(tot_winner))\n",
    "    print(\"Loser is \" + loser + \" with total of \" + str(tot_loser))\n",
    "    \n",
    "print(\"Game terminates after maximum of 13 rounds if there is no tie. If there is one tie, there are 12 rounds, and so on.\")    "
   ]
  },
  {
   "cell_type": "markdown",
   "metadata": {},
   "source": [
    "# Exercise 4"
   ]
  },
  {
   "cell_type": "markdown",
   "metadata": {},
   "source": [
    "## Set Up:"
   ]
  },
  {
   "cell_type": "code",
   "execution_count": 900,
   "metadata": {},
   "outputs": [],
   "source": [
    "def play_analysis():    \n",
    "    a,b=deal()\n",
    "   \n",
    "    initial_a = sum(a)\n",
    "    initial_b = sum(b)\n",
    "    \n",
    "    discard_pile_p1 = []\n",
    "    discard_pile_p2 = []\n",
    "    \n",
    "    i=0\n",
    "\n",
    "    while i<=25:\n",
    "\n",
    "        if(i%2==0):\n",
    "\n",
    "            if((a[i]+a[i+1])==(b[i]+b[i+1])):\n",
    "                \n",
    "                tie_pile = []; inc = 0; player_won = \"\"; p1_exhausted = []; p2_exhausted = [];\n",
    "                tie_pile,inc,player_won = tiebreaker(a,b,i,inc)\n",
    "                \n",
    "                if player_won == \"Player 1\":\n",
    "                    discard_pile_p1.extend(tie_pile)\n",
    "\n",
    "                elif player_won == \"Player 2\":\n",
    "                    discard_pile_p2.extend(tie_pile)\n",
    "                    \n",
    "                elif player_won == \"Exhausted\": \n",
    "                    \n",
    "                    p1_exhausted = [a[i],a[i+1]]\n",
    "                    discard_pile_p1.extend(p1_exhausted)\n",
    "                    \n",
    "                    p2_exhausted = [b[i],b[i+1]]\n",
    "                    discard_pile_p2.extend(p2_exhausted)\n",
    "                    \n",
    "                i += inc - 1\n",
    "                \n",
    "                \n",
    "            elif((a[i]+a[i+1])>(b[i]+b[i+1])):\n",
    "                discard_pile_p1.extend([a[i],a[i+1],b[i],b[i+1]])\n",
    "                \n",
    "\n",
    "            elif((a[i]+a[i+1])<(b[i]+b[i+1])):\n",
    "                discard_pile_p2.extend([a[i],a[i+1],b[i],b[i+1]])\n",
    "                \n",
    "        i += 1    \n",
    "    \n",
    "    count = 0\n",
    "    empty = 0\n",
    "    winner_initial = []\n",
    "    loser_initial = []\n",
    "    \n",
    "    #print(\"Will return now\")\n",
    "    #print(initial_a)\n",
    "    #print(initial_b)\n",
    "    #print(sum(discard_pile_p1))\n",
    "    #print(sum(discard_pile_p2))\n",
    "    #print(\"\")\n",
    "    \n",
    "    if((sum(discard_pile_p1)>sum(discard_pile_p2))):  #Taking condition where player1's pile is greater\n",
    "        \n",
    "        if(initial_a<initial_b):  #Taking condition where player1 won instead of low initial total\n",
    "            \n",
    "            count = 1\n",
    "            return sum(discard_pile_p1),sum(discard_pile_p2),count,initial_a,initial_b,initial_a,initial_b\n",
    "            \n",
    "        elif((initial_a>initial_b) or (initial_a==initial_b)): #Taking condition where player1 won after high or equal initial value\n",
    "            return sum(discard_pile_p1),sum(discard_pile_p2),count,empty,empty,initial_a,initial_b\n",
    "            \n",
    "\n",
    "    elif((sum(discard_pile_p1)<sum(discard_pile_p2))): #Taking condition where player2's pile is greater\n",
    "        \n",
    "        if(initial_b<initial_a): #Taking condition where player2 won instead of low initial total\n",
    "            \n",
    "            count = 1\n",
    "            return sum(discard_pile_p1),sum(discard_pile_p2),count,initial_b,initial_a,initial_b,initial_a\n",
    "        \n",
    "        elif((initial_b>initial_a) or (initial_b==initial_a)): #Taking condition where player1 won after high or equal initial value\n",
    "            return sum(discard_pile_p1),sum(discard_pile_p2),count,empty,empty,initial_b,initial_a\n",
    "        \n",
    "    elif(sum(discard_pile_p1)==sum(discard_pile_p2)): # Taking condition where there is tie between player 1 and player 2 after all rounds\n",
    "        #This is considered as 0 when we take situation of low initial value but won.\n",
    "        print(\"Output of discard pile is equal, game is tie\")\n",
    "        return sum(discard_pile_p1),sum(discard_pile_p2),count,empty,empty,initial_a,initial_b    \n",
    "        \n",
    "    \n",
    "def tiebreaker(a,b,i,inc):\n",
    "    \n",
    "   \n",
    "    if(i==24):\n",
    "        \n",
    "        tiebreaker_pile_last_1 =[a[i],a[i+1]]\n",
    "        tiebreaker_pile_last_2 =[b[i],b[i+1]]\n",
    "        return(tiebreaker_pile_last_1,inc+4,\"Exhausted\")\n",
    "    \n",
    "    else:\n",
    "        \n",
    "        inc = inc+4\n",
    "        tiebreaker_pile = []\n",
    "        tiebreaker_pile.extend([a[i],a[i+1],b[i],b[i+1]])\n",
    "\n",
    "        for j in range(i+2,25):\n",
    "\n",
    "            if((a[j]+a[j+1])==(b[j]+b[j+1])):\n",
    "                 return tiebreaker(a,b,j,inc)\n",
    "\n",
    "            if((a[j]+a[j+1])>(b[j]+b[j+1])):\n",
    "\n",
    "                tiebreaker_pile.extend([a[j],a[j+1],b[j],b[j+1]])\n",
    "                return(tiebreaker_pile,inc,\"Player 1\")\n",
    "\n",
    "            elif((a[j]+a[j+1])<(b[j]+b[j+1])):    \n",
    "        \n",
    "                tiebreaker_pile.extend([a[j],a[j+1],b[j],b[j+1]])\n",
    "                return(tiebreaker_pile,inc,\"Player 2\")    "
   ]
  },
  {
   "cell_type": "markdown",
   "metadata": {},
   "source": [
    "### 20 simulation using function call to play_analysis function in for loop and getting the returned values in appropriate dictionaries."
   ]
  },
  {
   "cell_type": "code",
   "execution_count": 902,
   "metadata": {},
   "outputs": [],
   "source": [
    "import numpy as np\n",
    "\n",
    "tot_winnera = {}; tot_losera = {}; count = {}; low_win = {}; high_loss = {}; winner_initial = {}; loser_initial = {};\n",
    "\n",
    "for i in range(0,20,1):\n",
    "    tot_winnera[i],tot_losera[i],count[i], low_win[i], high_loss[i],winner_initial[i],loser_initial[i] = play_analysis()"
   ]
  },
  {
   "cell_type": "markdown",
   "metadata": {},
   "source": [
    "## Step 4.1"
   ]
  },
  {
   "cell_type": "code",
   "execution_count": 903,
   "metadata": {},
   "outputs": [
    {
     "name": "stdout",
     "output_type": "stream",
     "text": [
      "Game 1\n",
      "Winner total: 156\n",
      "Loser total: 208\n",
      "\n",
      "Game 2\n",
      "Winner total: 158\n",
      "Loser total: 206\n",
      "\n",
      "Game 3\n",
      "Winner total: 173\n",
      "Loser total: 191\n",
      "\n",
      "Game 4\n",
      "Winner total: 177\n",
      "Loser total: 187\n",
      "\n",
      "Game 5\n",
      "Winner total: 181\n",
      "Loser total: 183\n",
      "\n",
      "Game 6\n",
      "Winner total: 297\n",
      "Loser total: 67\n",
      "\n",
      "Game 7\n",
      "Winner total: 224\n",
      "Loser total: 140\n",
      "\n",
      "Game 8\n",
      "Winner total: 143\n",
      "Loser total: 221\n",
      "\n",
      "Game 9\n",
      "Winner total: 166\n",
      "Loser total: 198\n",
      "\n",
      "Game 10\n",
      "Winner total: 203\n",
      "Loser total: 161\n",
      "\n",
      "Game 11\n",
      "Winner total: 159\n",
      "Loser total: 205\n",
      "\n",
      "Game 12\n",
      "Winner total: 151\n",
      "Loser total: 213\n",
      "\n",
      "Game 13\n",
      "Winner total: 337\n",
      "Loser total: 27\n",
      "\n",
      "Game 14\n",
      "Winner total: 176\n",
      "Loser total: 188\n",
      "\n",
      "Game 15\n",
      "Winner total: 257\n",
      "Loser total: 107\n",
      "\n",
      "Game 16\n",
      "Winner total: 204\n",
      "Loser total: 160\n",
      "\n",
      "Game 17\n",
      "Winner total: 231\n",
      "Loser total: 133\n",
      "\n",
      "Game 18\n",
      "Winner total: 228\n",
      "Loser total: 136\n",
      "\n",
      "Game 19\n",
      "Winner total: 239\n",
      "Loser total: 125\n",
      "\n",
      "Game 20\n",
      "Winner total: 184\n",
      "Loser total: 180\n",
      "\n",
      "Maximum of all winning values:\n",
      "337\n",
      "Minimum of all winning values:\n",
      "143\n",
      "Maximum of all losing values:\n",
      "221\n",
      "Minimum of all losing values:\n",
      "27\n",
      "Mean of all winning values:\n",
      "202.2\n",
      "Mean of all losing values:\n",
      "161.8\n"
     ]
    }
   ],
   "source": [
    "for i in range(0,20,1):\n",
    "    print(\"Game \" + str(i+1))\n",
    "    print(\"Winner total: \" + str(tot_winnera[i]))\n",
    "    print(\"Loser total: \" +str(tot_losera[i]))\n",
    "    print(\"\")\n",
    "    \n",
    "print(\"Maximum of all winning values:\")\n",
    "print(max(tot_winnera.values()))\n",
    "\n",
    "print(\"Minimum of all winning values:\")\n",
    "print(min(tot_winnera.values()))\n",
    "\n",
    "print(\"Maximum of all losing values:\")\n",
    "print(max(tot_losera.values()))\n",
    "\n",
    "print(\"Minimum of all losing values:\")\n",
    "print(min(tot_losera.values()))\n",
    "\n",
    "print(\"Mean of all winning values:\")\n",
    "print((sum(tot_winnera.values())/len(tot_winnera)))\n",
    "\n",
    "print(\"Mean of all losing values:\")\n",
    "print((sum(tot_losera.values())/len(tot_losera)))    "
   ]
  },
  {
   "cell_type": "markdown",
   "metadata": {},
   "source": [
    "#### Addition of winning and losing total is always 364. If total is around 202, you can win, considering mean for winning total or if value is about 160, you can lose, considering mean of losing total."
   ]
  },
  {
   "cell_type": "markdown",
   "metadata": {},
   "source": [
    "## Step 4.2"
   ]
  },
  {
   "cell_type": "code",
   "execution_count": 904,
   "metadata": {},
   "outputs": [
    {
     "name": "stdout",
     "output_type": "stream",
     "text": [
      "Proportion of game that resulted in winner that had lower initial total:\n",
      "0.3\n",
      "Lowest initial total to win:\n",
      "168\n",
      "Highest initial total to lose:\n",
      "196\n"
     ]
    }
   ],
   "source": [
    "low_tot_win = np.array(list(low_win.values()))\n",
    "\n",
    "print(\"Proportion of game that resulted in winner that had lower initial total:\")\n",
    "print((sum(count.values())/len(count)))\n",
    "\n",
    "if(np.count_nonzero(low_tot_win)==0):\n",
    "    print(\"No situation where initial lower value wins therefore there is no lowest initial total to win a game or conversely, the highest initial total to lose a game\")\n",
    "else:\n",
    "    lowest_initial_win=np.min(low_tot_win[np.nonzero(low_tot_win)])\n",
    "    print(\"Lowest initial total to win:\")\n",
    "    print(lowest_initial_win)\n",
    "    print(\"Highest initial total to lose:\")\n",
    "    print(max(high_loss.values()))\n",
    "    "
   ]
  },
  {
   "cell_type": "markdown",
   "metadata": {},
   "source": [
    "## Step 4.3"
   ]
  },
  {
   "cell_type": "code",
   "execution_count": 905,
   "metadata": {},
   "outputs": [
    {
     "name": "stdout",
     "output_type": "stream",
     "text": [
      "Correlation between final winning total and initial winning total:\n",
      "[[1.         0.76295383]\n",
      " [0.76295383 1.        ]]\n",
      "Correlation between final losing total and initial losing total:\n",
      "[[1.         0.76295383]\n",
      " [0.76295383 1.        ]]\n"
     ]
    }
   ],
   "source": [
    "arr_final_winner =  np.array(list(tot_winnera.values()))\n",
    "#print(np.shape(arr_final_winner))\n",
    "arr_final_loser =  np.array(list(tot_losera.values()))\n",
    "#print(arr_final_loser)\n",
    "arr_initial_winner =  np.array(list(winner_initial.values()))\n",
    "#print(arr_initial_winner)\n",
    "arr_initial_loser =  np.array(list(loser_initial.values()))\n",
    "#print(arr_initial_loser)\n",
    "    \n",
    "print(\"Correlation between final winning total and initial winning total:\")    \n",
    "print(np.corrcoef(arr_initial_winner,arr_final_winner,rowvar = True))\n",
    "print(\"Correlation between final losing total and initial losing total:\")\n",
    "print(np.corrcoef(arr_initial_loser,arr_final_loser, rowvar = True))"
   ]
  },
  {
   "cell_type": "markdown",
   "metadata": {},
   "source": [
    "The (linear) correlation between the initial and final totals for winners and losers is positive and equal(0.76), which tells that there is +ve relationship between initial and final, that is direct proportion which states that , usually a higher initial total will give a higher final total and a lower initial total will give a lower final total.\n",
    "\n",
    "Also, sometimes a realtion can show negative value, only when the condition about lower initial total still a higher final total is considered as we got proportion for some in above steps, but it is a rare case.\n",
    "\n",
    "The conclusion we can take from this is for the simulation of 20 games, the positive value is showing a strong direct proportion which tells us that if we take more number of simulations or more values to find the result, the correlation will increse implying a strong possibility of getting high final score if there is high initial score."
   ]
  },
  {
   "cell_type": "code",
   "execution_count": null,
   "metadata": {},
   "outputs": [],
   "source": []
  }
 ],
 "metadata": {
  "kernelspec": {
   "display_name": "Python 3",
   "language": "python",
   "name": "python3"
  },
  "language_info": {
   "codemirror_mode": {
    "name": "ipython",
    "version": 3
   },
   "file_extension": ".py",
   "mimetype": "text/x-python",
   "name": "python",
   "nbconvert_exporter": "python",
   "pygments_lexer": "ipython3",
   "version": "3.7.3"
  }
 },
 "nbformat": 4,
 "nbformat_minor": 2
}
